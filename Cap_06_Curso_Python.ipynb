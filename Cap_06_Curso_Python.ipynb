{
  "nbformat": 4,
  "nbformat_minor": 0,
  "metadata": {
    "colab": {
      "provenance": [],
      "authorship_tag": "ABX9TyPY4hSgkXWVhOm6InWz8MGl",
      "include_colab_link": true
    },
    "kernelspec": {
      "name": "python3",
      "display_name": "Python 3"
    },
    "language_info": {
      "name": "python"
    }
  },
  "cells": [
    {
      "cell_type": "markdown",
      "metadata": {
        "id": "view-in-github",
        "colab_type": "text"
      },
      "source": [
        "<a href=\"https://colab.research.google.com/github/marceloufjf/Curso_Intensivo_de_Python/blob/main/Cap_06_Curso_Python.ipynb\" target=\"_parent\"><img src=\"https://colab.research.google.com/assets/colab-badge.svg\" alt=\"Open In Colab\"/></a>"
      ]
    },
    {
      "cell_type": "markdown",
      "source": [
        "CAPÍTULO 6 - DICIONÁRIOS"
      ],
      "metadata": {
        "id": "kZrfdfOPx-AK"
      }
    },
    {
      "cell_type": "code",
      "source": [
        "alien_0 = {'cor': 'green', 'pontos': 5}\n",
        "print(alien_0['cor'])\n",
        "print(alien_0['pontos'])\n"
      ],
      "metadata": {
        "colab": {
          "base_uri": "https://localhost:8080/"
        },
        "id": "0OpLNNtXyKgX",
        "outputId": "c5f3ffb2-cea7-4993-b9c6-5bd0039a2a44"
      },
      "execution_count": null,
      "outputs": [
        {
          "output_type": "stream",
          "name": "stdout",
          "text": [
            "green\n",
            "5\n"
          ]
        }
      ]
    },
    {
      "cell_type": "markdown",
      "source": [
        "### Um dicionário em Python é uma coleção de pares chave-valor. Cada chave é conectada a um valor, e você pode usar uma chave para acessar o valor associado a ela. O **valor** de uma chave pode ser um número, uma string, uma lista ou até mesmo outro dicionário. Em Python, um dicionário é representado entre chaves, { }, com uma série de pares chave-valor entre elas, como mostramos no exemplo anterior."
      ],
      "metadata": {
        "id": "0mJ-hFgvyWtn"
      }
    },
    {
      "cell_type": "code",
      "source": [
        "novos_pontos = alien_0['pontos']\n",
        "print(\"\\nVocê ganhou \" + str(novos_pontos) + \" pontos!\\n\")"
      ],
      "metadata": {
        "colab": {
          "base_uri": "https://localhost:8080/"
        },
        "id": "FP0az4BhzyNF",
        "outputId": "3a8c3f68-9713-480b-aac0-ab9c344c1205"
      },
      "execution_count": null,
      "outputs": [
        {
          "output_type": "stream",
          "name": "stdout",
          "text": [
            "\n",
            "Você ganhou 5 pontos!\n",
            "\n"
          ]
        }
      ]
    },
    {
      "cell_type": "markdown",
      "source": [
        "### Depois que o dicionário foi definido, o código em **novos_pontos** extrai o valor associado à chave 'pontos' do dicionário. Esse valor então é armazenado na variável \"**novos_pontos**\". A linha em **print** converte esse valor inteiro em uma **string** e exibe uma frase sobre quantos pontos o jogador acabou de ganhar. A seguir adicionaremos novos pares chave-valor:"
      ],
      "metadata": {
        "id": "HOtverzs0_vF"
      }
    },
    {
      "cell_type": "code",
      "source": [
        "alien_0 = {'cor': 'green', 'pontos': 5}\n",
        "alien_0['position_x'] = 9\n",
        "alien_0['postion_y'] = 25\n",
        "print(alien_0)\n",
        "print(alien_0['position_x'])\n",
        "print(alien_0['postion_y'])"
      ],
      "metadata": {
        "colab": {
          "base_uri": "https://localhost:8080/"
        },
        "id": "OXgsw0V1EXLL",
        "outputId": "b0726da1-8e7f-4af7-f140-4d02e4dddc4d"
      },
      "execution_count": null,
      "outputs": [
        {
          "output_type": "stream",
          "name": "stdout",
          "text": [
            "{'cor': 'green', 'pontos': 5, 'position_x': 9, 'postion_y': 25}\n",
            "9\n",
            "25\n"
          ]
        }
      ]
    },
    {
      "cell_type": "markdown",
      "source": [
        "### Às vezes, é conveniente ou até mesmo necessário começar com um dicionário vazio e então acrescentar novos itens a ele. Para começar a preencher um dicionário vazio, defina-o com um conjunto de chaves vazio e depois acrescente cada par chave-valor em sua própria linha. Ex:\n"
      ],
      "metadata": {
        "id": "66ZqU8JqFHLf"
      }
    },
    {
      "cell_type": "code",
      "source": [
        "alien_1 = {}\n",
        "alien_1['color'] = 'blue'\n",
        "alien_1[\"points\"] = 10\n",
        "print(alien_1)"
      ],
      "metadata": {
        "colab": {
          "base_uri": "https://localhost:8080/"
        },
        "id": "ITLvJ_AMFXFr",
        "outputId": "91ce0037-4548-4aae-f830-1fd6b93fa338"
      },
      "execution_count": null,
      "outputs": [
        {
          "output_type": "stream",
          "name": "stdout",
          "text": [
            "{'color': 'blue', 'points': 10}\n"
          ]
        }
      ]
    },
    {
      "cell_type": "markdown",
      "source": [
        "### **OBS:** O dicionário fica entre chaves { }; para adicionar pares chave-valor, usa-se colchetes [ ]; e para imprimir parênteses ( ). Geralmente usamos dicionários vazios quando armazenamos dados fornecidos pelo usuário em um dicionário, ou quando escrevemos um código que gere um grande número de pares chave-valor automaticamente."
      ],
      "metadata": {
        "id": "vVU_w-4_Feqh"
      }
    },
    {
      "cell_type": "code",
      "source": [
        "alien_1['color'] = 'blue'\n",
        "print(\"\\nThe alien is \" + alien_1['color'] + \".\\n\")\n",
        "\n",
        "alien_1['color'] = 'yellow'\n",
        "print(\"The alien is now \" + alien_1['color'] + \".\\n\")"
      ],
      "metadata": {
        "colab": {
          "base_uri": "https://localhost:8080/"
        },
        "id": "8emjcWNlGCXs",
        "outputId": "5617eef9-20f8-4fe5-d2d9-022e254fe75f"
      },
      "execution_count": null,
      "outputs": [
        {
          "output_type": "stream",
          "name": "stdout",
          "text": [
            "\n",
            "The alien is blue.\n",
            "\n",
            "The alien is now yellow.\n",
            "\n"
          ]
        }
      ]
    },
    {
      "cell_type": "markdown",
      "source": [
        "### De volta ao Alien_0:\n",
        "### Movendo o alienígena para a direita. Determina a distância que o alienígena deve se deslocar de acordo com sua velocidade atual."
      ],
      "metadata": {
        "id": "FkzxnbhmG7jf"
      }
    },
    {
      "cell_type": "code",
      "source": [
        "alien_0['speed'] = 'medium'\n",
        "print(alien_0)\n",
        "\n",
        "print('\\nOriginal position_x: ' + str(alien_0['position_x']))\n",
        "\n",
        "if alien_0['speed'] == 'slow':\n",
        "    x_increment = 1\n",
        "elif alien_0['speed'] == 'medium':\n",
        "    x_increment = 2\n",
        "else:\n",
        "    x_increment = 3\n",
        "\n",
        "alien_0['position_x'] = alien_0['position_x'] + x_increment\n",
        "print('\\nNew position_x: ' + str(alien_0['position_x']) + '.\\n')\n",
        "print(alien_0)"
      ],
      "metadata": {
        "colab": {
          "base_uri": "https://localhost:8080/"
        },
        "id": "zwkvntONI0zc",
        "outputId": "3d54b659-af1e-42a6-8b28-b61cc168dbef"
      },
      "execution_count": null,
      "outputs": [
        {
          "output_type": "stream",
          "name": "stdout",
          "text": [
            "{'cor': 'green', 'pontos': 5, 'position_x': 9, 'postion_y': 25, 'speed': 'medium'}\n",
            "\n",
            "Original position_x: 9\n",
            "\n",
            "New position_x: 11.\n",
            "\n",
            "{'cor': 'green', 'pontos': 5, 'position_x': 11, 'postion_y': 25, 'speed': 'medium'}\n"
          ]
        }
      ]
    },
    {
      "cell_type": "markdown",
      "source": [
        "### Repetindo o código, mas 'speed' = fast. Repare que a posição de x começa em 11 dessa vez e será acrescentado 3 que corresponde a 'speed' = 'fast'."
      ],
      "metadata": {
        "id": "1nKWVzFEHk_9"
      }
    },
    {
      "cell_type": "code",
      "source": [
        "alien_0['speed'] = 'fast'\n",
        "\n",
        "if alien_0['speed'] == 'slow':\n",
        "    x_increment = 1\n",
        "elif alien_0['speed'] == 'medium':\n",
        "    x_increment = 2\n",
        "else:\n",
        "    x_increment = 3\n",
        "\n",
        "alien_0['position_x'] = alien_0['position_x'] + x_increment\n",
        "print('\\nNew position_x: ' + str(alien_0['position_x']) + '.\\n')\n",
        "print(alien_0)"
      ],
      "metadata": {
        "colab": {
          "base_uri": "https://localhost:8080/"
        },
        "id": "mLvuq-CPI5qz",
        "outputId": "a3d02b0a-fb93-4039-b92a-24b424a9a8e1"
      },
      "execution_count": null,
      "outputs": [
        {
          "output_type": "stream",
          "name": "stdout",
          "text": [
            "\n",
            "New position_x: 14.\n",
            "\n",
            "{'cor': 'green', 'pontos': 5, 'position_x': 14, 'postion_y': 25, 'speed': 'fast'}\n"
          ]
        }
      ]
    },
    {
      "cell_type": "markdown",
      "source": [
        "### Removendo pares chave-valor usando o comando **'del'**: repare que a chave **'pontos'** não constará mais no dicionário alien_0. **Nota:** saiba que o par chave-valor apagado **é removido de forma permanente.**\n"
      ],
      "metadata": {
        "id": "kW_8uUAcJbb0"
      }
    },
    {
      "cell_type": "code",
      "source": [
        "alien_0 = {'cor': 'green', 'pontos': 5, 'position_x': 14, 'postion_y': 25, 'speed': 'fast'}\n",
        "del alien_0['pontos']\n",
        "print(alien_0)"
      ],
      "metadata": {
        "colab": {
          "base_uri": "https://localhost:8080/"
        },
        "id": "IKJdWH6rKC2L",
        "outputId": "40639535-2efe-405b-d038-7216995b9391"
      },
      "execution_count": null,
      "outputs": [
        {
          "output_type": "stream",
          "name": "stdout",
          "text": [
            "{'cor': 'green', 'position_x': 14, 'postion_y': 25, 'speed': 'fast'}\n"
          ]
        }
      ]
    },
    {
      "cell_type": "markdown",
      "source": [
        "### **Um dicionário de objetos semelhantes:** Por exemplo, suponha que você queira fazer uma enquete com várias pessoas e perguntar-lhes qual é a sua linguagem de programação favorita. Um dicionário é conveniente para armazenar os resultados de uma enquete simples, desta maneira:"
      ],
      "metadata": {
        "id": "i92rS-s-KVAS"
      }
    },
    {
      "cell_type": "code",
      "source": [
        "linguagem_favorita = {\n",
        "    'Jen':'Python',\n",
        "    'Sarah':'C',\n",
        "    'Edward':'Ruby',\n",
        "    'Phil':'Python',\n",
        "    }\n",
        "print(linguagem_favorita)\n",
        "\n",
        "print('\\nA linguagem favorita de Sarah é ' +\n",
        "      linguagem_favorita['Sarah'] +\n",
        "      '.\\n')\n"
      ],
      "metadata": {
        "colab": {
          "base_uri": "https://localhost:8080/"
        },
        "id": "NgQZxgowKg6Y",
        "outputId": "3f80c3c1-1990-44ef-dea1-c776028b7327"
      },
      "execution_count": null,
      "outputs": [
        {
          "output_type": "stream",
          "name": "stdout",
          "text": [
            "{'Jen': 'Python', 'Sarah': 'C', 'Edward': 'Ruby', 'Phil': 'Python'}\n",
            "\n",
            "A linguagem favorita de Sarah é C.\n",
            "\n"
          ]
        }
      ]
    },
    {
      "cell_type": "markdown",
      "source": [
        "### Cada chave é o nome de uma pessoa que respondeu à enquete, e cada valor é a sua opção de linguagem. Esse exemplo também mostra como podemos dividir uma instrução **\"print\" ** longa em várias linhas.\n",
        "\n",
        "### **A seguir: percorrendo um dicionário com um laço.**"
      ],
      "metadata": {
        "id": "g5pdgKyZK12H"
      }
    },
    {
      "cell_type": "code",
      "source": [
        "User_0 = {\n",
        "    'user_name' : 'marceloufjf',\n",
        "    'first_name' : 'marcelo',\n",
        "    'last_name' : 'pinto',\n",
        "    }\n",
        "print(User_0)\n",
        "\n",
        "for key, value in User_0.items():\n",
        "    print(\"\\nChave: \" + key.title())\n",
        "    print(\"Valor: \" + value.title())"
      ],
      "metadata": {
        "colab": {
          "base_uri": "https://localhost:8080/"
        },
        "id": "JcT35Q0fqRuq",
        "outputId": "67c0da67-4776-4e33-9722-61c513176079"
      },
      "execution_count": null,
      "outputs": [
        {
          "output_type": "stream",
          "name": "stdout",
          "text": [
            "{'user_name': 'marceloufjf', 'first_name': 'marcelo', 'last_name': 'pinto'}\n",
            "\n",
            "Chave: User_Name\n",
            "Valor: Marceloufjf\n",
            "\n",
            "Chave: First_Name\n",
            "Valor: Marcelo\n",
            "\n",
            "Chave: Last_Name\n",
            "Valor: Pinto\n"
          ]
        }
      ]
    },
    {
      "cell_type": "markdown",
      "source": [
        "### Percorrer todos os pares chave-valor com um laço funciona bem, em particular, para dicionários como o do exemplo em **linguagem_favorita**, que armazena o mesmo tipo de informação para várias chaves diferentes. Se percorrermos o dicionário **linguagem_favorita** com um laço, teremos o nome de cada pessoa no dicionário e sua linguagem de programação favorita. Como as **chaves** sempre se referem ao **nome** de uma pessoa e o **valor** é sempre uma **linguagem**, usaremos as variáveis **nome e linguagem** no laço, em vez de **key e value**. Isso facilita entender o que está acontecendo:"
      ],
      "metadata": {
        "id": "XzMZ2Y_aq9sR"
      }
    },
    {
      "cell_type": "code",
      "source": [
        "linguagem_favorita = {\n",
        "    'jen': 'python',\n",
        "    'SARAH': 'C',\n",
        "    'edward': 'ruby',\n",
        "    'phil': 'python',\n",
        "    }\n",
        "\n",
        "for nome, linguagem in linguagem_favorita.items():\n",
        "    print(\"\\nA linguagem favorita de \" + nome.title() + \" é \" + linguagem.title() + \".\")"
      ],
      "metadata": {
        "colab": {
          "base_uri": "https://localhost:8080/"
        },
        "id": "BlXH5blvryM5",
        "outputId": "bc526263-2f87-4652-b386-9b199650cda2"
      },
      "execution_count": null,
      "outputs": [
        {
          "output_type": "stream",
          "name": "stdout",
          "text": [
            "\n",
            "A linguagem favorita de Jen é Python.\n",
            "\n",
            "A linguagem favorita de Sarah é C.\n",
            "\n",
            "A linguagem favorita de Edward é Ruby.\n",
            "\n",
            "A linguagem favorita de Phil é Python.\n"
          ]
        }
      ]
    },
    {
      "cell_type": "markdown",
      "source": [
        "### Obs: lembre-se da fórmula. \" for **key, value** in nome_do_dicionário.items( ):\" Você poderá substituir pelo nome que for mais apropriado em **\"key, value\".**\n",
        "\n",
        "### A seguir: **Percorrendo todas as chaves de um dicionário com um laço**."
      ],
      "metadata": {
        "id": "mo0EMNr9sQzD"
      }
    },
    {
      "cell_type": "markdown",
      "source": [
        "\n",
        "###O método **keys( )** é conveniente quando não precisamos trabalhar com todos os valores de um dicionário. Vamos percorrer o dicionário linguagem_favorita com um laço e exibir os nomes de todos que responderam à enquete:"
      ],
      "metadata": {
        "id": "uL7V-vzilaJX"
      }
    },
    {
      "cell_type": "code",
      "source": [
        "linguagem_favorita = {\n",
        "    'jen': 'python',\n",
        "    'SARAH': 'C',\n",
        "    'edward': 'ruby',\n",
        "    'phil': 'python',\n",
        "    }\n",
        "\n",
        "for nome in linguagem_favorita.keys():\n",
        "  print(nome.title())"
      ],
      "metadata": {
        "colab": {
          "base_uri": "https://localhost:8080/"
        },
        "id": "JaNyhtLGl1KL",
        "outputId": "b3cb13df-a37f-4fd3-905d-903add93f0b3"
      },
      "execution_count": null,
      "outputs": [
        {
          "output_type": "stream",
          "name": "stdout",
          "text": [
            "Jen\n",
            "Sarah\n",
            "Edward\n",
            "Phil\n"
          ]
        }
      ]
    },
    {
      "cell_type": "markdown",
      "source": [
        "### Percorrer as chaves, na verdade, é o comportamento-padrão quando percorremos um dicionário com um laço, portanto este código produzirá a mesma saída se escrevêssemos:\n",
        "\n",
        "**for nome in linguagem_favorita:**\n",
        "\n",
        "em vez de:\n",
        "\n",
        "**for nome in linguagem_favorita.keys():**\n",
        "\n",
        "###Você pode optar por usar o método keys( ) explicitamente se isso deixar seu código mais fácil de ler, ou pode omiti-lo, se quiser."
      ],
      "metadata": {
        "id": "on_3IjfimwTB"
      }
    },
    {
      "cell_type": "markdown",
      "source": [
        "### Agora iremos  exibir uma mensagem a dois amigos sobre as linguagens que eles escolheram. Percorreremos os nomes no dicionário com um laço como fizemos antes, porém, quando o nome for de um de nossos amigos, apresentaremos uma mensagem sobre sua linguagem favorita:"
      ],
      "metadata": {
        "id": "ROH7ewTYnrQv"
      }
    },
    {
      "cell_type": "code",
      "source": [
        "linguagem_favorita = {\n",
        "    'jen': 'python',\n",
        "    'SARAH': 'C',\n",
        "    'edward': 'ruby',\n",
        "    'phil': 'python',\n",
        "    }\n",
        "\n",
        "amigos = ['phil','sarah']\n",
        "for nome in linguagem_favorita:\n",
        "  print(nome.title())\n",
        "\n",
        "  if nome.lower() in amigos:\n",
        "    print('\\nOlá ' + nome.title() +\n",
        "          ', vejo que sua linguagem favorita é ' +\n",
        "          linguagem_favorita[nome].title() + ' !\\n')"
      ],
      "metadata": {
        "colab": {
          "base_uri": "https://localhost:8080/"
        },
        "id": "FeLTjBKhn3qt",
        "outputId": "45189158-d815-4706-a106-72086408513d"
      },
      "execution_count": null,
      "outputs": [
        {
          "output_type": "stream",
          "name": "stdout",
          "text": [
            "Jen\n",
            "Sarah\n",
            "\n",
            "Olá Sarah, vejo que sua linguagem favorita é C !\n",
            "\n",
            "Edward\n",
            "Phil\n",
            "\n",
            "Olá Phil, vejo que sua linguagem favorita é Python !\n",
            "\n"
          ]
        }
      ]
    },
    {
      "cell_type": "markdown",
      "source": [
        "### Podemos usar o método keys( ) para descobrir se uma pessoa em particular participou da enquete. Dessa vez, vamos ver se **Erin** respondeu à enquete:"
      ],
      "metadata": {
        "id": "ddkR4un2r2EV"
      }
    },
    {
      "cell_type": "code",
      "source": [
        "linguagem_favorita = {\n",
        "    'jen': 'python',\n",
        "    'SARAH': 'C',\n",
        "    'edward': 'ruby',\n",
        "    'phil': 'python',\n",
        "    }\n",
        "\n",
        "if \"Erin\" not in linguagem_favorita.keys():\n",
        "  print(\"\\nErin, por favor escolha sua linguagem favorita.\")"
      ],
      "metadata": {
        "colab": {
          "base_uri": "https://localhost:8080/"
        },
        "id": "xNb9KkxzsEoV",
        "outputId": "f621118d-e373-4a3e-eeef-dbcede43abb2"
      },
      "execution_count": null,
      "outputs": [
        {
          "output_type": "stream",
          "name": "stdout",
          "text": [
            "\n",
            "Erin, por favor escolha sua linguagem favorita.\n"
          ]
        }
      ]
    },
    {
      "cell_type": "markdown",
      "source": [
        "### Percorrendo as chaves de um dicionário em ordem usando um laço.\n",
        "### Uma maneira de fazer os itens serem devolvidos em determinada sequência é ordenar as chaves à medida que são devolvidas no **laço for**. Podemos usar a função **sorted( )** para obter uma cópia ordenada das chaves:"
      ],
      "metadata": {
        "id": "iee-i4QCtCh_"
      }
    },
    {
      "cell_type": "code",
      "source": [
        "linguagem_favorita = {\n",
        "    'jen': 'python',\n",
        "    'sarah': 'C',\n",
        "    'edward': 'ruby',\n",
        "    'phil': 'python',\n",
        "    }\n",
        "\n",
        "for nome in sorted(linguagem_favorita.keys()):\n",
        "  print(nome.title() + ', obrigado por participar da pesquisa.\\n')"
      ],
      "metadata": {
        "colab": {
          "base_uri": "https://localhost:8080/"
        },
        "id": "dw4obuesYMXD",
        "outputId": "394a519d-5388-4247-a47b-276488139f61"
      },
      "execution_count": null,
      "outputs": [
        {
          "output_type": "stream",
          "name": "stdout",
          "text": [
            "Edward, obrigado por participar da pesquisa.\n",
            "\n",
            "Jen, obrigado por participar da pesquisa.\n",
            "\n",
            "Phil, obrigado por participar da pesquisa.\n",
            "\n",
            "Sarah, obrigado por participar da pesquisa.\n",
            "\n"
          ]
        }
      ]
    },
    {
      "cell_type": "markdown",
      "source": [
        "### Percorrendo todos os **valores** de um dicionário com um laço:\n",
        "### Se você estiver mais interessado nos valores contidos em um dicionário, o **método values( )** pode ser usado para devolver uma lista de valores sem as chaves."
      ],
      "metadata": {
        "id": "8wAO3uzEactY"
      }
    },
    {
      "cell_type": "code",
      "source": [
        "linguagem_favorita = {\n",
        "    'jen': 'python',\n",
        "    'sarah': 'C',\n",
        "    'edward': 'ruby',\n",
        "    'phil': 'python',\n",
        "    }\n",
        "\n",
        "print('\\nAs seguintes linguagens foram citadas na pesquisa:\\n')\n",
        "for linguagem in linguagem_favorita.values():\n",
        "  print(linguagem.title())"
      ],
      "metadata": {
        "colab": {
          "base_uri": "https://localhost:8080/"
        },
        "id": "-k0rP-d4a9fE",
        "outputId": "9459bd2d-d0a9-4c19-d552-291a414c5151"
      },
      "execution_count": null,
      "outputs": [
        {
          "output_type": "stream",
          "name": "stdout",
          "text": [
            "\n",
            "As seguintes linguagens foram citadas na pesquisa:\n",
            "\n",
            "Python\n",
            "C\n",
            "Ruby\n",
            "Python\n"
          ]
        }
      ]
    },
    {
      "cell_type": "markdown",
      "source": [
        "### Agora listando de forma ordenada:"
      ],
      "metadata": {
        "id": "Q41Swwfpbt6d"
      }
    },
    {
      "cell_type": "code",
      "source": [
        "for linguagem in sorted(linguagem_favorita.values()):\n",
        "  print(linguagem.title())"
      ],
      "metadata": {
        "colab": {
          "base_uri": "https://localhost:8080/"
        },
        "id": "rGh3OlF5b1ZI",
        "outputId": "26dec0c0-42aa-466a-cf2c-dd84b8bb639c"
      },
      "execution_count": null,
      "outputs": [
        {
          "output_type": "stream",
          "name": "stdout",
          "text": [
            "C\n",
            "Python\n",
            "Python\n",
            "Ruby\n"
          ]
        }
      ]
    },
    {
      "cell_type": "markdown",
      "source": [
        "### Essa abordagem extrai todos os valores do dicionário, sem verificar se há repetições. Isso pode funcionar bem com uma quantidade pequena de valores, mas em uma enquete com um número grande de entrevistados, o resultado seria uma lista com muitas repetições. Para ver cada linguagem escolhida sem repetições, podemos usar um conjunto** (set)**. Um conjunto é semelhante a uma lista, **exceto que cada item de um conjunto deve ser único:**"
      ],
      "metadata": {
        "id": "PdgaXlZGcniM"
      }
    },
    {
      "cell_type": "code",
      "source": [
        "linguagem_favorita = {\n",
        "    'jen': 'python',\n",
        "    'sarah': 'C',\n",
        "    'edward': 'ruby',\n",
        "    'phil': 'python',\n",
        "    }\n",
        "\n",
        "print('\\nAs seguintes linguagens foram citadas na pesquisa:\\n')\n",
        "for linguagem in sorted(set(linguagem_favorita.values())):\n",
        "  print(linguagem.title())"
      ],
      "metadata": {
        "colab": {
          "base_uri": "https://localhost:8080/"
        },
        "id": "CKrxJx34c20R",
        "outputId": "57483faa-f558-478e-c5a8-626da9f22aea"
      },
      "execution_count": null,
      "outputs": [
        {
          "output_type": "stream",
          "name": "stdout",
          "text": [
            "\n",
            "As seguintes linguagens foram citadas na pesquisa:\n",
            "\n",
            "C\n",
            "Python\n",
            "Ruby\n"
          ]
        }
      ]
    },
    {
      "cell_type": "markdown",
      "source": [
        "###**Obs:** repare que **Python** só foi citada uma vez diferentemente do exemplo anterior. À medida que continuar a conhecer Python, com frequência você encontrará um recurso embutido na linguagem que o ajudará a fazer exatamente o que quiser com seus dados.\n",
        "\n",
        "### Informções Aninhadas - Listas de Dicionários:\n",
        "### O dicionário **alien_0** contém várias informações sobre um alienígena, mas não há espaço para armazenar informações sobre um segundo alienígena, muito menos para uma tela cheia deles. Como podemos administrar uma frota de alienígenas? Uma maneira é criar uma lista de alienígenas, em que cada alienígena seja representado por um dicionário com informações sobre ele. Por exemplo, o código a seguir cria uma lista com três alienígenas:\n"
      ],
      "metadata": {
        "id": "XejMcNo-dfOO"
      }
    },
    {
      "cell_type": "code",
      "source": [
        "alien_0 = {'color': 'green', 'points': 5}\n",
        "alien_1 = {'color': 'yellow', 'points': 10}\n",
        "alien_2 = {'color': 'red', 'points': 15}\n",
        "\n",
        "aliens = [alien_0, alien_1, alien_2]\n",
        "\n",
        "for alien in aliens:\n",
        "  print(alien)"
      ],
      "metadata": {
        "colab": {
          "base_uri": "https://localhost:8080/"
        },
        "id": "q2wyK5-RFfQ0",
        "outputId": "ffb0b6bd-4b5a-4839-c1c8-6dcb81248867"
      },
      "execution_count": null,
      "outputs": [
        {
          "output_type": "stream",
          "name": "stdout",
          "text": [
            "{'color': 'green', 'points': 5}\n",
            "{'color': 'yellow', 'points': 10}\n",
            "{'color': 'red', 'points': 15}\n"
          ]
        }
      ]
    },
    {
      "cell_type": "markdown",
      "source": [
        "### Inicialmente criamos três dicionários, cada um representando um alienígena diferente. Em seguida reunimos esses dicionários em uma lista chamada **aliens**. Por fim, percorremos a lista com um laço e exibimos cada alienígena. A seguir, usaremos range( ) para criar uma frota de 30 alienígenas:\n",
        "### Primeiro criaremos uma lista vazia para armazenar os alienígedas; em seguida criaremos 30 alienígenas; depois imprimiremos e mostraremos quantos alienígenas foram criados."
      ],
      "metadata": {
        "id": "BfYP3vt3GTWb"
      }
    },
    {
      "cell_type": "code",
      "source": [
        "aliens = []\n",
        "\n",
        "for alien in range(30):\n",
        "  new_alien = {'cor': 'verde', 'pontos': 5, 'speed': 'slow'}\n",
        "  aliens.append(new_alien)\n",
        "\n",
        "for alien in aliens:\n",
        "  print(alien)"
      ],
      "metadata": {
        "colab": {
          "base_uri": "https://localhost:8080/"
        },
        "id": "5BEg5Z_DHt_c",
        "outputId": "0e144702-9cf5-4498-9483-1fb1bcda2070"
      },
      "execution_count": null,
      "outputs": [
        {
          "output_type": "stream",
          "name": "stdout",
          "text": [
            "{'cor': 'verde', 'pontos': 5, 'speed': 'slow'}\n",
            "{'cor': 'verde', 'pontos': 5, 'speed': 'slow'}\n",
            "{'cor': 'verde', 'pontos': 5, 'speed': 'slow'}\n",
            "{'cor': 'verde', 'pontos': 5, 'speed': 'slow'}\n",
            "{'cor': 'verde', 'pontos': 5, 'speed': 'slow'}\n",
            "{'cor': 'verde', 'pontos': 5, 'speed': 'slow'}\n",
            "{'cor': 'verde', 'pontos': 5, 'speed': 'slow'}\n",
            "{'cor': 'verde', 'pontos': 5, 'speed': 'slow'}\n",
            "{'cor': 'verde', 'pontos': 5, 'speed': 'slow'}\n",
            "{'cor': 'verde', 'pontos': 5, 'speed': 'slow'}\n",
            "{'cor': 'verde', 'pontos': 5, 'speed': 'slow'}\n",
            "{'cor': 'verde', 'pontos': 5, 'speed': 'slow'}\n",
            "{'cor': 'verde', 'pontos': 5, 'speed': 'slow'}\n",
            "{'cor': 'verde', 'pontos': 5, 'speed': 'slow'}\n",
            "{'cor': 'verde', 'pontos': 5, 'speed': 'slow'}\n",
            "{'cor': 'verde', 'pontos': 5, 'speed': 'slow'}\n",
            "{'cor': 'verde', 'pontos': 5, 'speed': 'slow'}\n",
            "{'cor': 'verde', 'pontos': 5, 'speed': 'slow'}\n",
            "{'cor': 'verde', 'pontos': 5, 'speed': 'slow'}\n",
            "{'cor': 'verde', 'pontos': 5, 'speed': 'slow'}\n",
            "{'cor': 'verde', 'pontos': 5, 'speed': 'slow'}\n",
            "{'cor': 'verde', 'pontos': 5, 'speed': 'slow'}\n",
            "{'cor': 'verde', 'pontos': 5, 'speed': 'slow'}\n",
            "{'cor': 'verde', 'pontos': 5, 'speed': 'slow'}\n",
            "{'cor': 'verde', 'pontos': 5, 'speed': 'slow'}\n",
            "{'cor': 'verde', 'pontos': 5, 'speed': 'slow'}\n",
            "{'cor': 'verde', 'pontos': 5, 'speed': 'slow'}\n",
            "{'cor': 'verde', 'pontos': 5, 'speed': 'slow'}\n",
            "{'cor': 'verde', 'pontos': 5, 'speed': 'slow'}\n",
            "{'cor': 'verde', 'pontos': 5, 'speed': 'slow'}\n"
          ]
        }
      ]
    },
    {
      "cell_type": "markdown",
      "source": [
        "### A seguir mostraremos os primeiros 5 alienínenas e depois quantos foram criados:"
      ],
      "metadata": {
        "id": "frQgD9tEI4Om"
      }
    },
    {
      "cell_type": "code",
      "source": [
        "aliens = []\n",
        "\n",
        "for alien in range(30):\n",
        "  new_alien = {'cor': 'verde', 'pontos': 5, 'speed': 'slow'}\n",
        "  aliens.append(new_alien)\n",
        "\n",
        "for alien in aliens[:5]:\n",
        "  print(alien)\n",
        "\n",
        "print('\\nO número total de Aliens é: ' + str(len(aliens)))"
      ],
      "metadata": {
        "colab": {
          "base_uri": "https://localhost:8080/"
        },
        "id": "kgl34QkLJGrO",
        "outputId": "e2972c23-69e3-41fd-b67e-f387ffb4ce2d"
      },
      "execution_count": null,
      "outputs": [
        {
          "output_type": "stream",
          "name": "stdout",
          "text": [
            "{'cor': 'verde', 'pontos': 5, 'speed': 'slow'}\n",
            "{'cor': 'verde', 'pontos': 5, 'speed': 'slow'}\n",
            "{'cor': 'verde', 'pontos': 5, 'speed': 'slow'}\n",
            "{'cor': 'verde', 'pontos': 5, 'speed': 'slow'}\n",
            "{'cor': 'verde', 'pontos': 5, 'speed': 'slow'}\n",
            "\n",
            "O número total de Aliens é: 30\n"
          ]
        }
      ]
    },
    {
      "cell_type": "markdown",
      "source": [
        "### Todos esses alienígenas têm as mesmas características, mas Python considera cada um como um objeto diferente, o que nos permite modificar cada alienígena individualmente.\n",
        "\n",
        "###Agora suponha que um aspecto do jogo consista em fazer alguns alienígenas mudarem de cor e moverem-se mais rápido à medida que o jogo prosseguir. Quando for o momento de mudar de cor, podemos usar um **laço for e uma instrução if** para alterar a cor dos alienígenas. Por exemplo, para mudar os três primeiros alienígenas para amarelo, com velocidade média, valendo dez pontos cada, podemos fazer o seguinte:"
      ],
      "metadata": {
        "id": "eAs5mjQI6SYR"
      }
    },
    {
      "cell_type": "code",
      "source": [
        "# Cria uma lista vazia para armazenar alienígenas\n",
        "aliens = []\n",
        "# Cria 30 alienígenas verdes\n",
        "for alien_number in range (0,30):\n",
        "  new_alien = {'color': 'green', 'points': 5, 'speed': 'slow'}\n",
        "  aliens.append(new_alien)\n",
        "\n",
        "for alien in aliens[0:3]:\n",
        "  if alien['color'] == 'green':\n",
        "    alien['color'] = 'yellow'\n",
        "    alien['speed'] = 'medium'\n",
        "    alien['points'] = 10\n",
        "\n",
        "# Mostra os 5 primeiros alienígenas\n",
        "for alien in aliens[0:5]:\n",
        "  print(alien)\n",
        "print(\"...\")\n"
      ],
      "metadata": {
        "colab": {
          "base_uri": "https://localhost:8080/"
        },
        "id": "dtChT3EV7KSG",
        "outputId": "ff198d87-e17e-4924-fb04-c76c1826077e"
      },
      "execution_count": null,
      "outputs": [
        {
          "output_type": "stream",
          "name": "stdout",
          "text": [
            "{'color': 'yellow', 'points': 10, 'speed': 'medium'}\n",
            "{'color': 'yellow', 'points': 10, 'speed': 'medium'}\n",
            "{'color': 'yellow', 'points': 10, 'speed': 'medium'}\n",
            "{'color': 'green', 'points': 5, 'speed': 'slow'}\n",
            "{'color': 'green', 'points': 5, 'speed': 'slow'}\n",
            "...\n"
          ]
        }
      ]
    },
    {
      "cell_type": "markdown",
      "source": [
        "### Poderíamos expandir esse laço acrescentando um **bloco elif** que transforme alienígenas amarelos em alienígenas **vermelhos e rápidos, que valem 15 pontos** cada. Sem mostrar o programa todo novamente, esse laço teria o seguinte aspecto:"
      ],
      "metadata": {
        "id": "lvWDA3uZCwIf"
      }
    },
    {
      "cell_type": "code",
      "source": [
        "for alien in aliens[0:3]:\n",
        "  if alien['color'] == 'green':\n",
        "    alien['color'] = 'yellow'\n",
        "    alien['speed'] = 'medium'\n",
        "    alien['points'] = 10\n",
        "\n",
        "  elif alien['color'] == 'yellow':\n",
        "    alien['color'] = 'red'\n",
        "    alien['speed'] = 'fast'\n",
        "    alien['points'] = 15\n",
        "\n",
        "for alien in aliens[0:5]:\n",
        "  print(alien)\n",
        "print(\"...\")"
      ],
      "metadata": {
        "colab": {
          "base_uri": "https://localhost:8080/"
        },
        "id": "005TC8AiC9Fc",
        "outputId": "5740ae6e-093d-469e-8971-9bbfdf1d523a"
      },
      "execution_count": null,
      "outputs": [
        {
          "output_type": "stream",
          "name": "stdout",
          "text": [
            "{'color': 'red', 'points': 15, 'speed': 'fast'}\n",
            "{'color': 'red', 'points': 15, 'speed': 'fast'}\n",
            "{'color': 'red', 'points': 15, 'speed': 'fast'}\n",
            "{'color': 'green', 'points': 5, 'speed': 'slow'}\n",
            "{'color': 'green', 'points': 5, 'speed': 'slow'}\n",
            "...\n"
          ]
        }
      ]
    },
    {
      "cell_type": "markdown",
      "source": [
        "### Obs: Todos os dicionários da lista devem ter uma estrutura idêntica para que possamos percorrer a lista com um laço e trabalhar com cada objeto representado por um dicionário do mesmo modo.\n",
        "\n",
        "###Uma Lista em um Dicionário. Pág: 145"
      ],
      "metadata": {
        "id": "0wtqoNUaEEyj"
      }
    },
    {
      "cell_type": "markdown",
      "source": [
        "### Em vez de colocar um dicionário em uma lista, às vezes é conveniente colocar uma lista em um dicionário. Por exemplo, considere como podemos descrever uma pizza que alguém está pedindo. Se usássemos apenas uma lista, tudo que poderíamos realmente armazenar é uma lista dos ingredientes da pizza. Com um dicionário, uma lista de ingredientes pode ser apenas um dos aspectos da pizza que estamos descrevendo.\n",
        "### No exemplo a seguir, dois tipos de informação são armazenados para cada pizza: o tamanho e a lista de ingredientes."
      ],
      "metadata": {
        "id": "8DVDipuc6cfA"
      }
    },
    {
      "cell_type": "code",
      "source": [
        "pizza = {\n",
        "    'tamanho': 'grande',\n",
        "    'coberturas': ['queijo', 'calabresa'],\n",
        "    }\n",
        "\n",
        "print(\"\\nVocê pediu a pizza tamanho \" + pizza['tamanho'].title() +\n",
        "      \" com os seguintes ingredientes:\\n\")\n",
        "\n",
        "for cobertura in pizza['coberturas']:\n",
        "  print(cobertura.title())\n"
      ],
      "metadata": {
        "colab": {
          "base_uri": "https://localhost:8080/"
        },
        "id": "Nm7vt7ox6kYN",
        "outputId": "903fbee8-b24d-4566-ebf0-493b54a94c47"
      },
      "execution_count": null,
      "outputs": [
        {
          "output_type": "stream",
          "name": "stdout",
          "text": [
            "\n",
            "Você pediu a pizza tamanho Grande com os seguintes ingredientes:\n",
            "\n",
            "Queijo\n",
            "Calabresa\n"
          ]
        }
      ]
    },
    {
      "cell_type": "markdown",
      "source": [
        "### Você pode aninhar uma lista em um dicionário sempre que quiser que mais de um valor seja associado a uma única chave em um dicionário. No exemplo anterior das **linguagens de programação favoritas**, se armazenássemos as respostas de cada pessoa em uma lista, elas poderiam escolher mais de uma linguagem predileta. Se percorrermos o dicionário com um laço, o valor associado a cada pessoa será uma lista das linguagens, e não uma única linguagem. No **laço for** do dicionário, usamos outro **laço for** para percorrer a lista de linguagens associada a cada pessoa:"
      ],
      "metadata": {
        "id": "gJ0Dxe24_ZQu"
      }
    },
    {
      "cell_type": "code",
      "source": [
        "linguagem_favorita = {\n",
        "    'jen': ['python', 'ruby'],\n",
        "    'sarah': ['c'],\n",
        "    'edward': ['ruby', 'go'],\n",
        "    'phil': ['python', 'haskell'],\n",
        "    }\n",
        "\n",
        "for nome, linguagens in linguagem_favorita.items():\n",
        "  print(\"\\nAs linguagens favoritas de \" + nome.title() + \" são:\")\n",
        "  for linguagem in linguagens:\n",
        "    print(linguagem.title())\n"
      ],
      "metadata": {
        "colab": {
          "base_uri": "https://localhost:8080/"
        },
        "id": "Y4VousJgACfH",
        "outputId": "451d46b4-399a-4246-aec6-1f37c54d4bbd"
      },
      "execution_count": null,
      "outputs": [
        {
          "output_type": "stream",
          "name": "stdout",
          "text": [
            "\n",
            "As linguagens favoritas de Jen são:\n",
            "Python\n",
            "Ruby\n",
            "\n",
            "As linguagens favoritas de Sarah são:\n",
            "C\n",
            "\n",
            "As linguagens favoritas de Edward são:\n",
            "Ruby\n",
            "Go\n",
            "\n",
            "As linguagens favoritas de Phil são:\n",
            "Python\n",
            "Haskell\n"
          ]
        }
      ]
    },
    {
      "cell_type": "markdown",
      "source": [
        "### Para aperfeiçoar mais ainda esse programa, podemos incluir uma instrução **if no início do laço for** do dicionário para ver se cada pessoa tem mais de uma linguagem favorita analisando o valor de **len(languages)**. Se uma pessoa tiver mais de uma linguagem favorita, a saída será a mesma. Se ela tiver apenas uma linguagem predileta, poderíamos mudar a frase para refletir esse fato. Por exemplo, você poderia dizer: **A linguagem favorita de Sarah é C.** Deste modo haveria concordância verbal."
      ],
      "metadata": {
        "id": "UvgBzhnwDrB3"
      }
    },
    {
      "cell_type": "markdown",
      "source": [
        "Nota: Não aninhe listas e dicionários com muitos níveis de profundidade. Se estiver aninhando itens com um nível de profundidade muito maior do que vimos nos exemplos anteriores ou se estiver trabalhando com o código de outra pessoa, e esse código tiver níveis significativos de informações aninhadas, é mais provável que haja uma maneira mais simples de solucionar o problema existente."
      ],
      "metadata": {
        "id": "wAmRroopEO0u"
      }
    },
    {
      "cell_type": "code",
      "source": [
        "linguagem_favorita = {\n",
        "    'jen': ['python', 'ruby'],\n",
        "    'sarah': ['c'],\n",
        "    'edward': ['ruby', 'go'],\n",
        "    'phil': ['python', 'haskell'],\n",
        "    }\n",
        "\n",
        "for nome, linguagens in linguagem_favorita.items():\n",
        "  if len(linguagens) == 1:\n",
        "    print(\"\\nA linguagen favorita de \" + nome.title() + \" é:\")\n",
        "    for linguagem in linguagens:\n",
        "      print(linguagem.title())\n",
        "  else:\n",
        "    print(\"\\nAs linguagens favoritas de \" + nome.title() + \" são:\")\n",
        "    for linguagem in linguagens:\n",
        "      print(linguagem.title())\n",
        "\n"
      ],
      "metadata": {
        "colab": {
          "base_uri": "https://localhost:8080/"
        },
        "id": "CgWuD5cyEmrj",
        "outputId": "ad2f6539-e0cb-4d9c-9a31-138484fecd02"
      },
      "execution_count": null,
      "outputs": [
        {
          "output_type": "stream",
          "name": "stdout",
          "text": [
            "\n",
            "As linguagens favoritas de Jen são:\n",
            "Python\n",
            "Ruby\n",
            "\n",
            "A linguagen favorita de Sarah é:\n",
            "C\n",
            "\n",
            "As linguagens favoritas de Edward são:\n",
            "Ruby\n",
            "Go\n",
            "\n",
            "As linguagens favoritas de Phil são:\n",
            "Python\n",
            "Haskell\n"
          ]
        }
      ]
    },
    {
      "cell_type": "markdown",
      "source": [
        "### Podemos aninhar um dicionário em outro dicionário, mas o código poderá ficar complicado rapidamente se isso for feito. Por exemplo, se você tiver vários usuários em um site, cada um com um nome único, os **nomes dos usuários** poderão ser usados como **chaves** em um dicionário. Você poderá então armazenar informações sobre cada usuário usando um **dicionário como o valor** associado a cada nome de usuário. Na listagem a seguir, armazenamos três informações sobre cada usuário: **seu primeiro nome, o sobrenome e a localidade.** Acessaremos essas informações percorrendo os nomes dos usuários em um laço e o dicionário de informações associado a cada nome de usuário:"
      ],
      "metadata": {
        "id": "qZE_8IiKGb8U"
      }
    },
    {
      "cell_type": "code",
      "source": [
        "usuarios = {'aeinstein':{\n",
        "    'primeiro_nome':'albert',\n",
        "    'ultimo_nome':'einstein',\n",
        "    'localidade':'princeton',\n",
        "    },\n",
        "            'mcurie':{\n",
        "                'primeiro_nome':'marie',\n",
        "                'ultimo_nome':'curie',\n",
        "                'localidade':'paris',\n",
        "            },\n",
        "            }\n",
        "for chave, valor in usuarios.items():\n",
        "  print('\\nUsuário: ' + chave)\n",
        "  nome_completo = valor['primeiro_nome'] + ' ' + valor['ultimo_nome']\n",
        "  localidade = valor['localidade']\n",
        "\n",
        "  print('Nome Completo: ' + nome_completo.title())\n",
        "  print('Localidade: ' + localidade.title())"
      ],
      "metadata": {
        "colab": {
          "base_uri": "https://localhost:8080/"
        },
        "id": "iQQNdydouo3_",
        "outputId": "12b8be7f-a3c5-4955-9630-2073e81da49c"
      },
      "execution_count": null,
      "outputs": [
        {
          "output_type": "stream",
          "name": "stdout",
          "text": [
            "\n",
            "Usuário: aeinstein\n",
            "Nome Completo: Albert Einstein\n",
            "Localidade: Princeton\n",
            "\n",
            "Usuário: mcurie\n",
            "Nome Completo: Marie Curie\n",
            "Localidade: Paris\n"
          ]
        }
      ]
    },
    {
      "cell_type": "markdown",
      "source": [
        "### Observe que a estrutura do dicionário de cada usuário é idêntica. Embora Python não exija, essa estrutura facilita trabalhar com dicionários aninhados. Se o dicionário de cada pessoa tivesse chaves diferentes, o código no laço \"for\" seria mais complicado."
      ],
      "metadata": {
        "id": "R7iHICbU1zF1"
      }
    },
    {
      "cell_type": "markdown",
      "source": [
        "## Resumo\n",
        "\n",
        "### Neste capítulo aprendemos a definir um dicionário e a trabalhar com as informações armazenadas nele. Vimos como acessar e modificar elementos individuais de um dicionário e percorrer todas as suas informações com um laço. Aprendemos a percorrer todos os pares chave-valor de um dicionário, suas chaves e seus valores com um laço. Também vimos como aninhar vários dicionários em uma lista, aninhar listas em um dicionário e um dicionário em outro dicionário.\n",
        "### No próximo capítulo, conheceremos os laços while e veremos como aceitar dados de entrada das pessoas que usarem seus programas. Será um capítulo empolgante, pois você aprenderá a deixar todos os seus programas interativos: eles serão capazes de responder a dados de entrada do usuário."
      ],
      "metadata": {
        "id": "ZGql4G0X2UqK"
      }
    }
  ]
}