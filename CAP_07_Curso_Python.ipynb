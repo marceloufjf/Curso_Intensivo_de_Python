{
  "nbformat": 4,
  "nbformat_minor": 0,
  "metadata": {
    "colab": {
      "provenance": [],
      "authorship_tag": "ABX9TyPILDWf7Mjd/YjhuC7a/B5W",
      "include_colab_link": true
    },
    "kernelspec": {
      "name": "python3",
      "display_name": "Python 3"
    },
    "language_info": {
      "name": "python"
    }
  },
  "cells": [
    {
      "cell_type": "markdown",
      "metadata": {
        "id": "view-in-github",
        "colab_type": "text"
      },
      "source": [
        "<a href=\"https://colab.research.google.com/github/marceloufjf/Curso_Intensivo_de_Python/blob/main/CAP_07_Curso_Python.ipynb\" target=\"_parent\"><img src=\"https://colab.research.google.com/assets/colab-badge.svg\" alt=\"Open In Colab\"/></a>"
      ]
    },
    {
      "cell_type": "markdown",
      "source": [
        "# CAP_7 - Entrada de usuário e laços while"
      ],
      "metadata": {
        "id": "SSLDbm4w3Oco"
      }
    },
    {
      "cell_type": "markdown",
      "source": [
        "### Neste capítulo aprenderemos a aceitar dados de entrada do usuário para que seu programa possa então trabalhar com eles. Quando seu programa precisar de um nome, você poderá solicitá-lo ao usuário. Quando precisar de uma lista de nomes, você poderá pedir uma série de nomes ao usuário. Para isso, usaremos a função **input()**.\n",
        "### Também veremos como manter os programas executando pelo tempo que os usuários quiserem, de modo que eles possam fornecer quantas informações forem necessárias; em seguida, seu programa poderá trabalhar com essas informações. Usaremos o ***laço while *** de Python para manter os programas executando enquanto determinadas condições permanecerem verdadeiras."
      ],
      "metadata": {
        "id": "sTvWDtTijPhv"
      }
    },
    {
      "cell_type": "markdown",
      "source": [
        "## Como a função input() trabalha\n",
        "### A função **input()** faz uma pausa em seu programa e espera o usuário fornecer um texto. Depois que Python recebe a entrada do usuário, esse dado é armazenado em uma variável para que você possa trabalhar com ele de forma conveniente. Ex:"
      ],
      "metadata": {
        "id": "htDMi-PvkOIg"
      }
    },
    {
      "cell_type": "code",
      "source": [
        "menssagem = input(\"Tell me something, and I will repeat it back to you: \")\n",
        "print(menssagem.title())\n"
      ],
      "metadata": {
        "colab": {
          "base_uri": "https://localhost:8080/"
        },
        "id": "i1J2KbYEkbyS",
        "outputId": "87f2faf3-f602-4db2-a316-c2ef6610f11e"
      },
      "execution_count": null,
      "outputs": [
        {
          "output_type": "stream",
          "name": "stdout",
          "text": [
            "Tell me something, and I will repeat it back to you: heLLO !!\n",
            "Hello !!\n"
          ]
        }
      ]
    },
    {
      "cell_type": "markdown",
      "source": [
        "## Escrevendo prompts claros\n",
        "\n",
        "### Sempre que usar a função input(), inclua um prompt claro, fácil de compreender, que informe o usuário exatamente que tipo de informação você procura. Qualquer frase que diga aos usuários o que eles devem fornecer será apropriada. Por exemplo:"
      ],
      "metadata": {
        "id": "bysjEJlrlfix"
      }
    },
    {
      "cell_type": "code",
      "source": [
        "name = input(\"Please enter your name: \")\n",
        "print(\"Hello, \" + name.title() + \"!\")"
      ],
      "metadata": {
        "colab": {
          "base_uri": "https://localhost:8080/"
        },
        "id": "KX2ZeICSluLZ",
        "outputId": "9d89e3ba-c3ca-48a4-ff90-e98db49d9bc3"
      },
      "execution_count": null,
      "outputs": [
        {
          "output_type": "stream",
          "name": "stdout",
          "text": [
            "Please enter your name: marceLO\n",
            "Hello, Marcelo!\n"
          ]
        }
      ]
    },
    {
      "cell_type": "code",
      "source": [
        "prompt = \"If you tell us who you are, we can personalize the messages you see.\"\n",
        "prompt += \"\\nWhat is your first name? \"\n",
        "\n",
        "name = input(prompt)\n",
        "print(\"\\nHello, \" + name.title() + \"!\")\n"
      ],
      "metadata": {
        "colab": {
          "base_uri": "https://localhost:8080/"
        },
        "id": "Qs2clG3tTlOu",
        "outputId": "193cc101-3355-41b2-c7e1-6ef768b5ea6e"
      },
      "execution_count": null,
      "outputs": [
        {
          "output_type": "stream",
          "name": "stdout",
          "text": [
            "If you tell us who you are, we can personalize the messages you see.\n",
            "What is your first name? marcelo\n",
            "\n",
            "Hello, Marcelo!\n"
          ]
        }
      ]
    },
    {
      "cell_type": "markdown",
      "source": [
        "## **Usando int() para aceitar entradas numéricas**\n",
        "### Se usarmos a função input(), Python interpretará tudo que o usuário fornecer como uma string. Considere a sessão de interpretador a seguir, que pergunta a idade do usuário:"
      ],
      "metadata": {
        "id": "BPin2YxWVQyI"
      }
    },
    {
      "cell_type": "code",
      "source": [
        "age = input(\"How old are you? \")\n",
        "if int(age) >= 21:\n",
        "  print(\"\\nYou can drink!\")\n",
        "else:\n",
        "  print(\"\\nYou can't drink!\")"
      ],
      "metadata": {
        "colab": {
          "base_uri": "https://localhost:8080/"
        },
        "id": "c8B5l-A6VdpC",
        "outputId": "bb035d3f-37e5-4eff-c734-6b7af57e0ded"
      },
      "execution_count": null,
      "outputs": [
        {
          "output_type": "stream",
          "name": "stdout",
          "text": [
            "How old are you? 21\n",
            "\n",
            "You can drink!\n"
          ]
        }
      ]
    },
    {
      "cell_type": "markdown",
      "source": [
        "### O usuário digita o número 21, mas quando pedimos o valor de age, Python devolve '21', que é a representação em string do valor numérico fornecido. Sabemos que Python interpretou a entrada como uma string porque o número agora está entre aspas. Se tudo que você quiser fazer é exibir a entrada, isso funcionará bem. Entretanto, se tentar usar a entrada como um número, você obterá um erro.\n",
        "\n",
        "### Podemos resolver esse problema usando a função **int()**, que diz a Python para tratar a entrada como um valor numérico. A função **int()** converte a representação em **string de um número em uma representação numérica**. Vejamos outro exemplo:"
      ],
      "metadata": {
        "id": "zsxmapWzXohY"
      }
    },
    {
      "cell_type": "code",
      "source": [
        "altura = input(\"Qual a sua altura em centímetros? \")\n",
        "\n",
        "if int(altura) >= 120:\n",
        "  print(\"\\nVocê já pode andar na montanha russa.\")\n",
        "elif int(altura) < 120:\n",
        "  print(\"\\nSinto muito! Você será capaz de andar quando for um pouco mais velho. \")\n",
        "\n"
      ],
      "metadata": {
        "colab": {
          "base_uri": "https://localhost:8080/"
        },
        "id": "fFQMQWLUYzt-",
        "outputId": "aaccb01d-cb66-4858-e954-ed59a794e0c5"
      },
      "execution_count": null,
      "outputs": [
        {
          "output_type": "stream",
          "name": "stdout",
          "text": [
            "Qual a sua altura em centímetros? 130\n",
            "\n",
            "Você já pode andar na montanha russa.\n"
          ]
        }
      ]
    },
    {
      "cell_type": "markdown",
      "source": [
        "### **Lembrete:** Quando usar uma entrada numérica para fazer cálculos e comparações, lembre-se de converter o valor da entrada em uma representação numérica antes.\n",
        "\n",
        "## Operador de módulo"
      ],
      "metadata": {
        "id": "gvrL-xCNiig9"
      }
    },
    {
      "cell_type": "code",
      "source": [
        "numero = input(\"Digite um número e lhe direi se é par ou ímpar: \")\n",
        "numero = int(numero)\n",
        "\n",
        "if numero % 2 == 0:\n",
        "  print(\"\\nO numero \" + str(numero) + \" é par.\")\n",
        "else:\n",
        "  print(\"\\nO numero \" + str(numero) + \" é ímpar\")\n"
      ],
      "metadata": {
        "colab": {
          "base_uri": "https://localhost:8080/"
        },
        "id": "AP9ZE8Vq3TPA",
        "outputId": "24ab31ab-56e6-4abf-8c51-f2f5daf04a55"
      },
      "execution_count": null,
      "outputs": [
        {
          "output_type": "stream",
          "name": "stdout",
          "text": [
            "Digite um número e lhe direi se é par ou ímpar: 11\n",
            "\n",
            "O numero 11 é ímpar\n"
          ]
        }
      ]
    },
    {
      "cell_type": "markdown",
      "source": [
        "###O **operador de módulo (%)** não diz quantas vezes um número cabe em outro; ele simplesmente informa o resto.\n",
        "###Quando um número é divisível por outro, o resto é 0, portanto o operador de módulo sempre devolve 0 nesse caso. Podemos usar esse fato para determinar se um número é par ou ímpar como no exemplo acima.\n",
        "###Números pares são sempre divisíveis por dois, portanto, se o módulo entre um número e dois for zero **(nesse caso, if number % 2 == 0)**, o número será par. Caso contrário, será ímpar.\n",
        "\n",
        "##**Introdução aos laços while**\n",
        "\n",
        "###O laço **for** toma uma coleção de itens e executa um bloco de código uma vez para cada item da coleção. Em comparação, o **laço while** executa durante o tempo em que, ou enquanto, uma determinada condição for verdadeira.\n",
        "\n",
        "###**Obs: O operador += 1 é um atalho para current_number = current_number + 1.**"
      ],
      "metadata": {
        "id": "kw_SWL-25eH8"
      }
    },
    {
      "cell_type": "code",
      "source": [
        "current_number = 1\n",
        "while current_number <= 5:\n",
        "  print(current_number)\n",
        "  current_number += 1"
      ],
      "metadata": {
        "colab": {
          "base_uri": "https://localhost:8080/"
        },
        "id": "zVPZlYLD7fmx",
        "outputId": "b06a6d38-055b-4f2d-c9e0-dc4b28998516"
      },
      "execution_count": null,
      "outputs": [
        {
          "output_type": "stream",
          "name": "stdout",
          "text": [
            "1\n",
            "2\n",
            "3\n",
            "4\n",
            "5\n"
          ]
        }
      ]
    },
    {
      "cell_type": "markdown",
      "source": [
        "##**Deixando o usuário decidir quando quer sair**"
      ],
      "metadata": {
        "id": "fLe4Au6NCAII"
      }
    },
    {
      "cell_type": "code",
      "source": [
        "prompt = \"\\nTell me something, and I'll repeat it back to you:\\n\"\n",
        "prompt += \"\\nEnter 'quit' to end the program. \"\n",
        "\n",
        "message = \"\"\n",
        "while message.lower() != \"quit\":\n",
        "  message = input(prompt)\n",
        "  print (message.title())"
      ],
      "metadata": {
        "colab": {
          "base_uri": "https://localhost:8080/"
        },
        "id": "llyuypO22CmT",
        "outputId": "81433213-cf6f-4c7f-b7a3-da84f626b6b9"
      },
      "execution_count": null,
      "outputs": [
        {
          "output_type": "stream",
          "name": "stdout",
          "text": [
            "\n",
            "Tell me something, and I'll repeat it back to you:\n",
            "\n",
            "Enter 'quit' to end the program. Hello!!\n",
            "Hello!!\n",
            "\n",
            "Tell me something, and I'll repeat it back to you:\n",
            "\n",
            "Enter 'quit' to end the program. QUit\n",
            "Quit\n"
          ]
        }
      ]
    },
    {
      "cell_type": "markdown",
      "source": [
        "### Definimos message como uma **string vazia, \" \"**, de modo que Python tenha algo para conferir na primeira vez que alcançar a linha com while. Na primeira vez que o programa executar e Python alcançar a **instrução while**, ele deverá comparar o valor de **message com 'quit'**, mas o usuário ainda não forneceu nenhuma entrada. Se Python não tiver nada para comparar, ele não será capaz de continuar executando o programa. Para resolver esse problema, garantimos que **message** receba um valor inicial. Embora seja apenas uma string vazia, ela fará sentido para Python e permitirá que a comparação que faz o laço while funcionar seja feita. Esse laço **while** executa enquanto o valor de message não for **'quit'.**\n",
        "\n",
        "###Obs: Esse programa funciona bem, exceto que exibe a palavra **'quit'** como se fosse uma mensagem de verdade. Um teste **if** simples corrige esse problema:"
      ],
      "metadata": {
        "id": "aBCThpma5z4y"
      }
    },
    {
      "cell_type": "code",
      "source": [
        "prompt = \"\\nTell me something, and I'll repeat it back to you:\\n\"\n",
        "prompt += \"\\nEnter 'quit' to end the program. \"\n",
        "\n",
        "message = \"\"\n",
        "while message.lower() != \"quit\":\n",
        "  message = input(prompt)\n",
        "\n",
        "  if message.lower() != \"quit\":\n",
        "    print (message.title())"
      ],
      "metadata": {
        "colab": {
          "base_uri": "https://localhost:8080/"
        },
        "id": "IaC0VkKtcFQb",
        "outputId": "789a376a-9fd6-4238-bda5-14a0298613de"
      },
      "execution_count": null,
      "outputs": [
        {
          "name": "stdout",
          "output_type": "stream",
          "text": [
            "\n",
            "Tell me something, and I'll repeat it back to you:\n",
            "\n",
            "Enter 'quit' to end the program. Hello!\n",
            "Hello!\n",
            "\n",
            "Tell me something, and I'll repeat it back to you:\n",
            "\n",
            "Enter 'quit' to end the program. QUIT\n"
          ]
        }
      ]
    },
    {
      "cell_type": "markdown",
      "source": [
        "## **Usando uma flag**\n",
        "\n",
        "###Podemos escrever nossos programas de modo que executem enquanto a **flag** estiver definida com *True* e parem de executar quando qualquer um dos vários eventos definir o valor da **flag** com *False*. Como resultado, nossa instrução while geral precisa verificar apenas uma condição: se a flag, no momento, é True. Então todos os nossos demais testes (para ver se um evento que deve definir a flag com False ocorreu) podem estar bem organizados no restante do programa.\n"
      ],
      "metadata": {
        "id": "6AXdGg28coaU"
      }
    },
    {
      "cell_type": "code",
      "source": [
        "prompt = \"\\nTell me something, and I will repeat it back to you:\"\n",
        "prompt += \"\\nEnter 'quit' to end the program. \"\n",
        "\n",
        "active = True\n",
        "while active :\n",
        "  message = input(prompt)\n",
        "\n",
        "  if message.lower() == \"quit\":\n",
        "    active = False\n",
        "\n",
        "  else:\n",
        "    print(message)\n"
      ],
      "metadata": {
        "colab": {
          "base_uri": "https://localhost:8080/"
        },
        "id": "knqrVKnpwrZF",
        "outputId": "969fabe7-4e26-4e53-ec49-7efad987432c"
      },
      "execution_count": null,
      "outputs": [
        {
          "name": "stdout",
          "output_type": "stream",
          "text": [
            "\n",
            "Tell me something, and I will repeat it back to you:\n",
            "Enter 'quit' to end the program. Olá!!\n",
            "Olá!!\n",
            "\n",
            "Tell me something, and I will repeat it back to you:\n",
            "Enter 'quit' to end the program. QUIt\n"
          ]
        }
      ]
    },
    {
      "cell_type": "markdown",
      "source": [
        "### Esse programa gera a mesma saída do exemplo anterior, em que havíamos colocado o teste condicional diretamente na instrução while. Porém, agora que temos uma flag para indicar se o programa como um todo está em um estado ativo, será mais fácil acrescentar outros testes (por exemplo, instruções elif) para eventos que devam fazer active se tornar False. Isso é útil em programas complicados, como jogos, em que pode haver muitos eventos, e qualquer um deles poderia fazer o programa parar de executar.\n",
        "\n",
        "##Usando **break** para sair de um laço:"
      ],
      "metadata": {
        "id": "U-ZlN5tGFDj1"
      }
    },
    {
      "cell_type": "code",
      "source": [
        "prompt = \"\\nPlease enter the name of a city you have visited:\"\n",
        "prompt += \"\\n(Enter 'quit' when you are finished.) \"\n",
        "\n",
        "while True:\n",
        "  cidade = input(prompt)\n",
        "\n",
        "  if cidade.lower() == 'quit':\n",
        "    break\n",
        "\n",
        "  else:\n",
        "    print(\"I'd love to go to \" + cidade.title() + \"!\")"
      ],
      "metadata": {
        "colab": {
          "base_uri": "https://localhost:8080/"
        },
        "id": "SHDpamcjq8CP",
        "outputId": "905779ad-e7cb-4a15-cb58-023affda454c"
      },
      "execution_count": null,
      "outputs": [
        {
          "name": "stdout",
          "output_type": "stream",
          "text": [
            "\n",
            "Please enter the name of a city you have visited:\n",
            "(Enter 'quit' when you are finished.) RIO de jaNEIro\n",
            "I'd love to go to Rio De Janeiro!\n",
            "\n",
            "Please enter the name of a city you have visited:\n",
            "(Enter 'quit' when you are finished.) QUIt\n"
          ]
        }
      ]
    },
    {
      "cell_type": "markdown",
      "source": [
        "### Um laço que comece com **while** **True** executará indefinidamente, a menos que alcance uma instrução **break**. O laço desse programa continuará pedindo aos usuários para que entrem com os nomes das cidades em que eles estiveram até que **'quit'** seja fornecido. Quando **'quit'** for digitado, a instrução** break** é executada, fazendo Python sair do laço."
      ],
      "metadata": {
        "id": "84cNyvbmsfrC"
      }
    },
    {
      "cell_type": "markdown",
      "source": [
        "## **Usando continue em um laço:**\n",
        "\n",
        "### Em vez de sair totalmente de um laço sem executar o restante de seu código, podemos usar a instrução **continue** para retornar ao início, com base no resultado de um teste condicional. Por exemplo, considere um laço que conte de 1 a 10, mas apresente apenas os números pares desse intervalo:"
      ],
      "metadata": {
        "id": "GpqJgyIDtcjG"
      }
    },
    {
      "cell_type": "code",
      "source": [
        "current_number = 0\n",
        "\n",
        "while current_number < 10:\n",
        "  current_number += 1\n",
        "\n",
        "  if current_number % 2 != 0:\n",
        "    continue\n",
        "\n",
        "  print(current_number)"
      ],
      "metadata": {
        "colab": {
          "base_uri": "https://localhost:8080/"
        },
        "id": "uwWnUWZVt52m",
        "outputId": "2f4a37c3-d12c-4ef3-8592-e740b2074163"
      },
      "execution_count": null,
      "outputs": [
        {
          "output_type": "stream",
          "name": "stdout",
          "text": [
            "2\n",
            "4\n",
            "6\n",
            "8\n",
            "10\n"
          ]
        }
      ]
    },
    {
      "cell_type": "code",
      "source": [
        "# Outro Exemplo\n",
        "current_number = 0\n",
        "\n",
        "while current_number < 10:\n",
        "  current_number += 1\n",
        "\n",
        "  if current_number % 4 == 0:\n",
        "    continue\n",
        "\n",
        "  print(current_number)"
      ],
      "metadata": {
        "colab": {
          "base_uri": "https://localhost:8080/"
        },
        "id": "QbdpmDqbuyF0",
        "outputId": "32ad0feb-4645-4f7c-a7a7-704fb784adc6"
      },
      "execution_count": null,
      "outputs": [
        {
          "output_type": "stream",
          "name": "stdout",
          "text": [
            "1\n",
            "2\n",
            "3\n",
            "5\n",
            "6\n",
            "7\n",
            "9\n",
            "10\n"
          ]
        }
      ]
    },
    {
      "cell_type": "markdown",
      "source": [
        "###Neste último exemplo quando o programa detectou um número que dividido por quatro sobrasse zero, o comando **continue** foi acionado. Desta forma, excluiu-se os números múltiplos de 4 e em seguida continuou o laço** While** até que a condição **< 10** fosse atingida."
      ],
      "metadata": {
        "id": "s_Oc5cBmu9Ed"
      }
    },
    {
      "cell_type": "markdown",
      "source": [
        "##**Evitando loops infinitos:**\n",
        "\n",
        "###Todo laço **while** precisa de uma maneira de interromper a execução para que não continue executando indefinidamente. Por exemplo, o laço a seguir deve fazer a contagem de 1 a 5:"
      ],
      "metadata": {
        "id": "uHywDU_vwUWQ"
      }
    },
    {
      "cell_type": "code",
      "source": [
        "x = 1\n",
        "while x <= 5:\n",
        "  print(x)\n",
        "  x += 1"
      ],
      "metadata": {
        "colab": {
          "base_uri": "https://localhost:8080/"
        },
        "id": "li98DB8cw8Ix",
        "outputId": "8bcea1fd-8ffe-432a-d009-522a7f3e5b1b"
      },
      "execution_count": null,
      "outputs": [
        {
          "output_type": "stream",
          "name": "stdout",
          "text": [
            "1\n",
            "2\n",
            "3\n",
            "4\n",
            "5\n"
          ]
        }
      ]
    },
    {
      "cell_type": "markdown",
      "source": [
        "### Contudo, se você omitir a linha x += 1 (como vemos a seguir) por acidente, o laço executará para sempre:"
      ],
      "metadata": {
        "id": "5paqC11fx0OQ"
      }
    },
    {
      "cell_type": "code",
      "source": [
        "x = 1\n",
        "while x <= 5:\n",
        "  print(x)\n",
        " # 1\n",
        " # 1\n",
        " # 1\n",
        " # 1 ... Infinitamente..."
      ],
      "metadata": {
        "id": "9h7_Us6Xx8Fc"
      },
      "execution_count": null,
      "outputs": []
    },
    {
      "cell_type": "markdown",
      "source": [
        "### Todo programador escreve ocasionalmente um loop infinito (ou laço infinito) com **while** por acidente, em especial quando os laços do programa tiverem condições de saída sutis. Se seu programa ficar preso em um loop infinito, tecle **ctrl-C** ou simplesmente feche a janela do terminal que está exibindo a saída de seu programa.\n",
        "\n",
        "### Para evitar escrever loops infinitos, teste todos os laços **while** e certifique-se de que eles serão encerrados conforme esperado. Se quiser que seu programa termine quando o usuário fornecer determinado valor de entrada, execute o programa e forneça esse valor. Se o programa não terminar, analise cuidadosamente o modo como seu programa trata o valor que deveria fazer o laço parar. Garanta que pelo menos uma parte do programa possa fazer a condição do laço ser **False** ou fazer uma instrução **break** ser alcançada."
      ],
      "metadata": {
        "id": "039xOKmozb6L"
      }
    },
    {
      "cell_type": "markdown",
      "source": [
        "## **Usando um laço while com listas e dicionários:**\n",
        "\n",
        "###Um laço **for** é eficiente para percorrer uma lista, **mas você não deve modificar uma lista em um laço for**, pois Python terá problemas para manter o controle dos itens da lista. Para modificar uma lista enquanto trabalhar com ela, **utilize um laço while**. Usar laços **while** com listas e dicionários permite coletar, armazenar e organizar muitas entradas a fim de analisá-las e apresentá-las posteriormente."
      ],
      "metadata": {
        "id": "c0GqUum00DP8"
      }
    },
    {
      "cell_type": "markdown",
      "source": [
        "**##Transferindo itens de uma lista para outra**\n",
        "\n",
        "###Considere uma lista de usuários recém-registrados em um site, porém não verificados. Depois de conferir esses usuários, como podemos transferi-los para uma lista separada de usuários confirmados? Uma maneira seria usar um laço while para extrair os usuários da lista de usuários não confirmados à medida que os verificarmos e então adicioná-los em uma lista separada de usuários confirmados. Esse código pode ter o seguinte aspecto:\n",
        "\n",
        " - Começa com os usuários que precisam ser verificados;\n",
        " - e com uma lista vazia para armazenar os usuários confirmados."
      ],
      "metadata": {
        "id": "7jdiAnAw16N5"
      }
    },
    {
      "cell_type": "code",
      "source": [
        "usuarios_nao_confirmados = [\"alice\", \"brian\", \"dualipa\"]\n",
        "usuarios_confirmados = []\n",
        "\n",
        "# Verifica cada usuário até que não haja mais usuários_não_confirmados.\n",
        "# Transfere cada usuário verificado para a lista de usuários_confirmados.\n",
        "\n",
        "while usuarios_nao_confirmados:\n",
        "  usuarios_ativos = usuarios_nao_confirmados.pop()\n",
        "\n",
        "  print(\"Usuário verificado: \" + usuarios_ativos.title())\n",
        "  usuarios_confirmados.append(usuarios_ativos)\n",
        "\n",
        "# Exibe todos os usuários confirmados\n",
        "\n",
        "print(\"\\nOs seguintes usuarios foram confirmados:\")\n",
        "for usuario_confirmado in usuarios_confirmados:\n",
        "  print(usuario_confirmado.title())\n",
        "\n",
        "print(usuarios_confirmados)\n",
        "# Obs: em for xxxxxx in usuarios_confirmados, poderia ser qualquer nome no lugar de x.\n"
      ],
      "metadata": {
        "colab": {
          "base_uri": "https://localhost:8080/"
        },
        "id": "jxpw0hSH6TcN",
        "outputId": "bd3604b8-658c-40c1-c1d7-e517103edc80"
      },
      "execution_count": null,
      "outputs": [
        {
          "output_type": "stream",
          "name": "stdout",
          "text": [
            "Usuário verificado: Dualipa\n",
            "Usuário verificado: Brian\n",
            "Usuário verificado: Alice\n",
            "\n",
            "Os seguintes usuarios foram confirmados:\n",
            "Dualipa\n",
            "Brian\n",
            "Alice\n",
            "['dualipa', 'brian', 'alice']\n"
          ]
        }
      ]
    },
    {
      "cell_type": "markdown",
      "source": [
        "## **Removendo todas as instâncias de valores específicos de uma lista**\n",
        "\n",
        "### Suponha que tenhamos uma lista de animais de estimação com o valor 'cat' repetido várias vezes. Para remover todas as instâncias desse valor, podemos executar um laço while até 'cat' não estar mais na lista, como vemos aqui:\n"
      ],
      "metadata": {
        "id": "lt6u5YW6W1C-"
      }
    },
    {
      "cell_type": "code",
      "source": [
        "pets = ['dog', 'cat', 'dog', 'goldfish', 'cat', 'rabbit', 'cat']\n",
        "print(pets)\n",
        "\n",
        "while 'cat' in pets:\n",
        "  pets.remove('cat')\n",
        "\n",
        "print(pets)"
      ],
      "metadata": {
        "colab": {
          "base_uri": "https://localhost:8080/"
        },
        "id": "zfJIW162fqJ5",
        "outputId": "d80a9def-f392-4e06-bdae-ef0917a98d28"
      },
      "execution_count": null,
      "outputs": [
        {
          "output_type": "stream",
          "name": "stdout",
          "text": [
            "['dog', 'cat', 'dog', 'goldfish', 'cat', 'rabbit', 'cat']\n",
            "['dog', 'dog', 'goldfish', 'rabbit']\n"
          ]
        }
      ]
    },
    {
      "cell_type": "markdown",
      "source": [
        "## **Preechendo um dicionário com dados de entrada do usuário:**\n",
        "\n",
        "### Vamos criar um programa de enquete em que cada passagem pelo laço solicita o nome do participante e uma resposta. Armazenaremos os dados coletados em um dicionário, pois queremos associar cada resposta a um usuário em particular:"
      ],
      "metadata": {
        "id": "UZ9v7EikgeJ5"
      }
    },
    {
      "cell_type": "code",
      "source": [
        "responses = {}\n",
        "\n",
        "# Pede o nome da pessoa e a resposta\n",
        "polling_active = True\n",
        "\n",
        "while polling_active:\n",
        "  name = input(\"\\nWhat is your name? \")\n",
        "  response = input(\"\\nWhich moutain would you like to climb someday? \")\n",
        "  # Armazena as respostas no dicionário:\n",
        "  responses[name] = response\n",
        "  # Descobre se outra pessoa vai responder a enquete:\n",
        "  repeat = input(\"\\nWould you like to let another person respond? (yes/ no) \")\n",
        "  if repeat.lower() == 'no':\n",
        "    polling_active = False\n",
        "\n",
        "# A enquete foi concluída e em seguida exibe os resultados:\n",
        "\n",
        "print('\\n----- Poll Results -----\\n')\n",
        "print(responses)\n",
        "\n",
        "for name, response in responses.items():\n",
        "  print('\\n' + name.title() + ' would like to climb ' + response.title() + '.')\n"
      ],
      "metadata": {
        "colab": {
          "base_uri": "https://localhost:8080/"
        },
        "id": "_whKn-73hYiE",
        "outputId": "c77c2919-244d-4415-f2ca-bd63607964f5"
      },
      "execution_count": null,
      "outputs": [
        {
          "output_type": "stream",
          "name": "stdout",
          "text": [
            "\n",
            "What is your name? marceLO\n",
            "\n",
            "Which moutain would you like to climb someday? eveREst\n",
            "\n",
            "Would you like to let another person respond? (yes/ no) yes\n",
            "\n",
            "What is your name? Dualipa\n",
            "\n",
            "Which moutain would you like to climb someday? k9\n",
            "\n",
            "Would you like to let another person respond? (yes/ no) no\n",
            "\n",
            "----- Poll Results -----\n",
            "\n",
            "{'marceLO': 'eveREst', 'Dualipa': 'k9'}\n",
            "\n",
            "Marcelo would like to climb Everest.\n",
            "\n",
            "Dualipa would like to climb K9.\n"
          ]
        }
      ]
    }
  ]
}